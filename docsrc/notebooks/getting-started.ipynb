{
 "metadata": {
  "language_info": {
   "codemirror_mode": {
    "name": "ipython",
    "version": 3
   },
   "file_extension": ".py",
   "mimetype": "text/x-python",
   "name": "python",
   "nbconvert_exporter": "python",
   "pygments_lexer": "ipython3",
   "version": "3.8.5-final"
  },
  "orig_nbformat": 2,
  "kernelspec": {
   "name": "python_defaultSpec_1597617328109",
   "display_name": "Python 3.8.5 64-bit"
  }
 },
 "nbformat": 4,
 "nbformat_minor": 2,
 "cells": [
  {
   "cell_type": "markdown",
   "metadata": {},
   "source": [
    "# Getting started with `geovar`\n",
    "\n",
    "This notebook highlights an instructive example of how to generate \"GeoVar\"-style plots using an example dataset of 5000 randomly chosen bi-allelic variants on Chromosome 22 from the new high-coverage sequencing of the [1000 Genomes Project from the New York Genome Center](http://ftp.1000genomes.ebi.ac.uk/vol1/ftp/data_collections/1000G_2504_high_coverage/working/20190425_NYGC_GATK/)\n",
    "\n"
   ]
  },
  {
   "cell_type": "markdown",
   "metadata": {},
   "source": [
    "## Imports"
   ]
  },
  {
   "cell_type": "code",
   "execution_count": 5,
   "metadata": {},
   "outputs": [],
   "source": [
    "import numpy as np \n",
    "import pandas as pd\n",
    "import pkg_resources\n",
    "\n",
    "from geovar.utils import *\n",
    "from geovar.geovar import GeoVar\n",
    "from geovar.viz import GeoVarPlot\n",
    "\n",
    "#visualization tools\n",
    "import matplotlib.pyplot as plt\n",
    "plt.rcParams[\"font.family\"] = \"Arial\"\n",
    "plt.rcParams[\"font.sans-serif\"] = \"Arial\""
   ]
  },
  {
   "cell_type": "markdown",
   "metadata": {},
   "source": [
    "## Data\n",
    "\n",
    "We have packaged both frequency tables as well as a gzipped vcf dataset within the `geovar` pacakge to illustrate how to move from a [VCF](https://samtools.github.io/hts-specs/VCFv4.2.pdf) file and a population specification file to a full `geovar`-style stacked barplot. \n"
   ]
  },
  {
   "cell_type": "code",
   "execution_count": 16,
   "metadata": {},
   "outputs": [],
   "source": [
    "# data_path = pkg_resources.resource_filename(\"geodist\", \"data/\")\n",
    "# print(data_path)\n",
    "# vcf_file = \"{}/new_1kg_nygc.chr22.biallelic_snps.filt.n5000.vcf.gz\".format(data_path)\n",
    "# population_panel = \"{}/integrated_call_samples_v3.20130502.1kg_superpops.panel\".format(data_path)"
   ]
  }
 ]
}